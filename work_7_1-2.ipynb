{
 "cells": [
  {
   "cell_type": "code",
   "execution_count": 57,
   "id": "1ea18b50-839c-41b9-89dc-b9bc831f76ba",
   "metadata": {},
   "outputs": [],
   "source": [
    "import numpy as np\n",
    "from matplotlib import pyplot as plt\n",
    "from sklearn import preprocessing\n",
    "import wfdb\n",
    "import copy as cp\n",
    "import scipy.signal as signal\n",
    "import pickle\n",
    "from sklearn import preprocessing\n",
    "from tqdm import tqdm\n",
    "import os\n",
    "import re\n",
    "import pandas as pd\n",
    "import csv"
   ]
  },
  {
   "cell_type": "markdown",
   "id": "ff518e51-5ede-4171-9999-eec653a86830",
   "metadata": {},
   "source": [
    "# Process Information Taken from Raw Files"
   ]
  },
  {
   "cell_type": "markdown",
   "id": "1b56f20a-36b3-4527-bae5-13efc2acb6be",
   "metadata": {},
   "source": [
    "## Import our Previously Extracted Data"
   ]
  },
  {
   "cell_type": "code",
   "execution_count": 58,
   "id": "3c8fc3db-52ee-45aa-aa1e-2c5c2f0cfced",
   "metadata": {},
   "outputs": [],
   "source": [
    "record_list = [] # Initialize the array that will hold the list of our records\n",
    "\n",
    "records = 'mit-bih-dataframes/subject_list.csv' # Get our record list like we did in the initial extraction\n",
    "with open(records) as rfile:# Load our records into the array\n",
    "    for record in rfile:\n",
    "        record = record[0:-1] # The -1 removes the newline (\"\\n\") character from the string\n",
    "        record_list.append(record)"
   ]
  },
  {
   "cell_type": "code",
   "execution_count": 59,
   "id": "08b92ea0-d297-468a-bceb-1b93b6b24a6a",
   "metadata": {},
   "outputs": [
    {
     "name": "stderr",
     "output_type": "stream",
     "text": [
      "100%|██████████| 23/23 [02:00<00:00,  5.23s/it]\n"
     ]
    }
   ],
   "source": [
    "subject_dataframes = [] # Initialize our dataframe array\n",
    "\n",
    "for x in tqdm(record_list): # Extract our dataframes from the CSVs we saved previously\n",
    "    subject_dataframes.append(pd.read_csv('mit-bih-dataframes/'+x+'.csv', index_col=0))\n",
    "            # 'index_col=0' loads the index that is saved into the csv as the index rather than another column"
   ]
  },
  {
   "cell_type": "code",
   "execution_count": 60,
   "id": "ae44f96a-5723-4b03-98ed-040fa80c6e54",
   "metadata": {},
   "outputs": [
    {
     "name": "stderr",
     "output_type": "stream",
     "text": [
      "100%|██████████| 23/23 [00:27<00:00,  1.19s/it]\n"
     ]
    }
   ],
   "source": [
    "\n",
    "# Now we get the indexes of the R-Peaks from our dataframes\n",
    "qrs = [] # Initialize the array that will hold our list of R-Peaks for each subject\n",
    "\n",
    "for subject in tqdm(subject_dataframes): # Load each subject\n",
    "    qrs.append([idx for idx, x in enumerate(subject['R-Peak']) if x]) # Then we use list comprehension to get our r peaks for each subject\n",
    "                                                                # Recall, the indices that the R-Peak column is true is where there is an r-peak\n",
    "                                                                # So, we iterate through and identify which indices that is for each subject"
   ]
  },
  {
   "cell_type": "markdown",
   "id": "82cb24c2-931a-40d1-9d6a-021504fd0325",
   "metadata": {
    "tags": []
   },
   "source": [
    "## Extract RR-Intervals"
   ]
  },
  {
   "cell_type": "markdown",
   "id": "7dcac9a3-97f0-40a4-9641-815801adc08d",
   "metadata": {},
   "source": [
    "In 2019, all of our developed variables were based on RR-Intervals, or the distance between adjacent R-Peaks. So, that is the first thing we extract "
   ]
  },
  {
   "cell_type": "code",
   "execution_count": 61,
   "id": "93830edf-cc3e-4b64-8cc7-12501c1c7a95",
   "metadata": {},
   "outputs": [],
   "source": [
    "rr_ints = [] # Initialize the array that will hold all of our subjects' RR-Intervals\n",
    "\n",
    "# Then we want to Go through all of our data that holds our R-Peaks [That will be the qrs array]\n",
    "# Iterating through that we want to extract the interval between each peak. \n",
    "# My suggested format is: \n",
    "\"\"\"\n",
    "for each subject:\n",
    "    for each rpeak sample_num in my current subject:\n",
    "        subject_rrinterval.append( rpeak sample_num - the sample_num before it)\n",
    "\"\"\"\n",
    "\n",
    "\n",
    "rr_ints = [] # Initialize the array that will hold all of our subjects' RR-Intervals\n",
    "\n",
    "for idx, subj in enumerate(qrs): # Iterate through our subjects data\n",
    "    rr1 = [] # Initialize a temporary array that will store a single subject's RR-Intervals\n",
    "    for idxs, r in enumerate(subj): # Iterate through the subject's R-Peaks\n",
    "        if idxs == 0: # If it is the first peak we have no interval so go on to the next R-Peak\n",
    "            next\n",
    "        else:\n",
    "            rr1.append(r - subj[idxs-1]) # Find the interval by taking the difference of the location of one R-Peak with the Location of the R-Peak before it\n",
    "    rr_ints.append(rr1) # Add it to our master array"
   ]
  },
  {
   "cell_type": "markdown",
   "id": "71514714-494c-4bc0-9c2a-5d5758401e47",
   "metadata": {},
   "source": [
    "## Save the RR-Intervals "
   ]
  },
  {
   "cell_type": "code",
   "execution_count": 62,
   "id": "fe79ee98-9757-4290-a0d5-84686797758a",
   "metadata": {},
   "outputs": [
    {
     "name": "stderr",
     "output_type": "stream",
     "text": [
      "100%|██████████| 23/23 [00:02<00:00, 10.11it/s]\n"
     ]
    }
   ],
   "source": [
    "reload_flag = False\n",
    "for idx, subj in enumerate(tqdm(rr_ints)):\n",
    "    if not os.path.exists(\"mit-bih-rr-intervalsd/\"+record_list[idx]+\".csv\") or reload_flag:\n",
    "        np.savetxt(\"mit-bih-rr-intervals/\"+record_list[idx]+\".csv\", np.array(subj), delimiter=\",\")"
   ]
  },
  {
   "cell_type": "code",
   "execution_count": 63,
   "id": "283487bb",
   "metadata": {},
   "outputs": [],
   "source": [
    "#rrints_dataframe = []\n",
    "#for idx, x in enumerate(tqdm(record_list)): \n",
    "#    subj = pd.DataFrame(data=np.transpose(np.array(rr_ints[idx])), columns=[\"RR Intervals\"])\n",
    "#    rrints_dataframe.append(subj)"
   ]
  },
  {
   "cell_type": "code",
   "execution_count": 64,
   "id": "8cee7e01",
   "metadata": {},
   "outputs": [],
   "source": [
    "#plt.figure(figsize=(30, 15), dpi=50)\n",
    "#plt.rcParams[\"figure.dpi\"] = 100\n",
    "#fig, ax = plt.subplots()\n",
    "#ax.boxplot(rr_ints)\n",
    "#ax.set_title('RR Intervals For Subjects')\n",
    "#ax.set_xlabel('Subject')\n",
    "#ax.set_ylabel('RR Interval')\n",
    "#plt.savefig('RR_Intervals.png')"
   ]
  },
  {
   "cell_type": "code",
   "execution_count": 65,
   "id": "577621b5",
   "metadata": {},
   "outputs": [],
   "source": [
    "#plt.figure(figsize=(20, 10), dpi=50)\n",
    "#plt.hist(rr_ints[0], bins=100)\n",
    "#plt.xlabel(\"RR Intervals\", fontsize=20)\n",
    "#plt.ylabel(\"Frequency\", fontsize=20)\n",
    "#plt.title(\"RR Ints for Subject 04015\", fontsize=20)"
   ]
  },
  {
   "cell_type": "code",
   "execution_count": 66,
   "id": "632c9f39",
   "metadata": {},
   "outputs": [],
   "source": [
    "#df_allcolors=[]\n",
    "#for idx, subj in enumerate(tqdm(qrs)):\n",
    "#    df_color=[]\n",
    "#    for x in subj:\n",
    "#        if subject_dataframes[idx].loc[x, 'Normal']:\n",
    "#            df_color.append('green')\n",
    "#        elif subject_dataframes[idx].loc[x, 'AFIB']:\n",
    "#            df_color.append('red')\n",
    "#        else:\n",
    "#            df_color.append('orange')\n",
    "#    df_allcolors.append(df_color)"
   ]
  },
  {
   "cell_type": "code",
   "execution_count": 67,
   "id": "12431d10",
   "metadata": {},
   "outputs": [],
   "source": [
    "#subj_number=0\n",
    "\n",
    "#plt.figure(figsize=(20, 10), dpi=100)\n",
    "#plt.scatter(range(len(rr_ints[subj_number])), rr_ints[subj_number], color=df_allcolors[subj_number][1:], s=3)\n",
    "\n",
    "\n",
    "#legenddict = {\n",
    "#    'Normal': 'green',\n",
    "#    'AFIB': 'red',\n",
    "#    'Other': 'orange'\n",
    "#}\n",
    "\n",
    "#handlelist = [plt.plot([], marker=\"o\", ls=\"\", color=color)[0] for color in legenddict.values()]\n",
    "#plt.legend(handlelist, legenddict.keys(), prop={\"size\": 20})\n",
    "#plt.title('R-Peaks and Rhythms for Subject ' + str(record_list[subj_number]), fontsize=20)\n",
    "#plt.ylabel('RR Interval', fontsize=20)\n",
    "#plt.xlabel('Location', fontsize=20)\n",
    "#plt.axhline(np.mean(rr_ints[subj_number]) + 3*np.std(rr_ints[subj_number]))\n",
    "#plt.axhline(np.mean(rr_ints[subj_number]) - 3*np.std(rr_ints[subj_number]))\n",
    "#plt.savefig(\"ColoredScatterPlot1.png\")\n",
    "\n",
    "#Code taken from following link: https://stackoverflow.com/questions/42180475/how-to-add-legend-to-scatter-plot-that-has-colour-assignment"
   ]
  },
  {
   "cell_type": "code",
   "execution_count": 68,
   "id": "029ebfb6",
   "metadata": {},
   "outputs": [],
   "source": [
    "#new_rrints = []\n",
    "#for subj in rr_ints:\n",
    "#    new_rrints.append([x for x in subj if x < 500])"
   ]
  },
  {
   "cell_type": "code",
   "execution_count": 69,
   "id": "59e77b89",
   "metadata": {},
   "outputs": [],
   "source": [
    "#plt.figure(figsize=(20, 10), dpi=50)\n",
    "#plt.hist(new_rrints[0], bins=100)\n",
    "#plt.xlabel(\"RR Intervals\", fontsize=20)\n",
    "#plt.ylabel(\"Frequency\", fontsize=20)\n",
    "#plt.title(\"RR Ints for Subject 04015 After Filter\", fontsize=20)"
   ]
  },
  {
   "cell_type": "code",
   "execution_count": 70,
   "id": "9cdb49dc",
   "metadata": {},
   "outputs": [],
   "source": [
    "#plt.figure(figsize=(50, 25), dpi=50)\n",
    "#fig, ax = plt.subplots()\n",
    "#ax.boxplot(new_rrints)\n",
    "#ax.set_title('RR Intervals For Subjects With Filter')\n",
    "#ax.set_xlabel('Subject')\n",
    "#ax.set_ylabel('RR Interval')\n",
    "#plt.savefig('New_RR_Intervals.png')"
   ]
  },
  {
   "cell_type": "code",
   "execution_count": 71,
   "id": "1382c005",
   "metadata": {},
   "outputs": [],
   "source": [
    "#rhythm_dics = []\n",
    "#header_dics = []\n",
    "\n",
    "#for x in record_list:\n",
    "#    with open('mit-bih-extracted/'+x+'_rhythms.pkl', mode='rb') as infile:\n",
    "#        rhythm_dics.append(pickle.load(infile))\n",
    "#    with open('mit-bih-extracted/'+x+'_headers.pkl', mode='rb') as infile:\n",
    "#        header_dics.append(pickle.load(infile))"
   ]
  },
  {
   "cell_type": "code",
   "execution_count": 72,
   "id": "89eca043",
   "metadata": {},
   "outputs": [],
   "source": [
    "def plotPoincare(RRints):\n",
    "    \"\"\"\n",
    "    Input    :\n",
    "    \n",
    "     - RRints: [list] of RR intervals\n",
    "        \n",
    "    Output   :\n",
    "     - Poincare plot     \n",
    "    \"\"\"\n",
    "    ax1 = RRints[:-1]\n",
    "    ax2 = RRints[1:]   \n",
    "    plt.scatter(ax1, ax2, c = 'r', s = 12)\n",
    "    plt.xlabel('RR_n (s)')\n",
    "    plt.ylabel('RR_n+1 (s)')\n",
    "    plt.show()\n",
    "\n",
    "def eclipseFittingMethod(RRints):\n",
    "    \"\"\"\n",
    "    Input        :\n",
    "    \n",
    "     - RRints    : [list] of RR intervals\n",
    "        \n",
    "    Output       : \n",
    "             \n",
    "      - SD1, SD2 : {dict} with keys 'SD1' (numpy.float64), representing short-term \n",
    "                   variation, and 'SD2' (numpy.float64), representing long-term\n",
    "                   variation.   \n",
    "    \"\"\"\n",
    "    SDSD =  np.std(np.diff(RRints))\n",
    "    SDRR = np.std(RRints)\n",
    "    SD1 = (1 / np.sqrt(2)) * SDSD #measures the width of poincare cloud\n",
    "    SD2 = np.sqrt((2 * SDRR ** 2) - (0.5 * SDSD ** 2)) #measures the length of the poincare cloud\n",
    " \n",
    "    return {'SD1': SD1, 'SD2': SD2}\n",
    "    \n",
    "def hraMethod(RRints):\n",
    "    \"\"\"\n",
    "    Perform analysis to quantify heart rate assymmetry (HRA).\n",
    "    \n",
    "    Input           :\n",
    "    \n",
    "     - RRints       : [list] of RR intervals\n",
    "        \n",
    "    Output          :\n",
    "     - C_DOWN, C_UP : {dict} with keys 'C_DOWN' (numpy.float64) and \n",
    "                      'C_UP' (numpy.float64)    \n",
    "     \"\"\"    \n",
    "    ax1 = RRints[:-1]\n",
    "    ax2 = RRints[1:]\n",
    "    SD1I = np.sqrt((1 / len(ax1)) * (np.sum((ax1 - ax2) ** 2) / 2))\n",
    "    ax1ax2 = (ax1 - ax2) / np.sqrt(2)\n",
    "    indices_up = np.where(ax1ax2 > 0)\n",
    "    indices_down = np.where(ax1ax2 < 0)\n",
    "    SD1_UP = np.sqrt(np.sum(ax1ax2[indices_up] ** 2) / len(ax1))\n",
    "    SD1_DOWN = np.sqrt(np.sum(ax1ax2[indices_down] ** 2) / len(ax1))    \n",
    "    C_UP = SD1_UP ** 2 / SD1I ** 2 #for decelerations\n",
    "    C_DOWN = SD1_DOWN ** 2 / SD1I ** 2 #for accelerations\n",
    "    \n",
    "    return {'C_UP': C_UP, 'C_DOWN': C_DOWN}\n",
    "\n",
    "def correlationCoef(RRints):\n",
    "    \"\"\"\n",
    "    Computes interbeat autocorrelation coefficient\n",
    "    \n",
    "    Input    :\n",
    "    \n",
    "     - RRints: [list] of RR intervals\n",
    "        \n",
    "    Output   : \n",
    "        \n",
    "     - r_rr  : [numpy.float64] interbeat autocorrelation coefficient\n",
    " \n",
    "     \"\"\"    \n",
    "    ax1 = RRints[:-1]\n",
    "    ax2 = RRints[1:]\n",
    "    mu_rr = np.mean(RRints)\n",
    "    r_rr = np.mean((ax1 - mu_rr) * (ax2 - mu_rr)) / (np.sqrt(np.mean((ax1 - mu_rr) ** 2) * np.mean((ax2 - mu_rr) ** 2)))\n",
    "\n",
    "    return r_rr\n",
    "    \n",
    "def plotRRintHist(RRints):\n",
    "    \"\"\" \n",
    "    Histogram distribution of poincare points projected onto the x-axis\n",
    "    \n",
    "    Input    :\n",
    "    \n",
    "     - RRints: [list] of RR intervals\n",
    "        \n",
    "    Output   :\n",
    "        \n",
    "     - RR interval histogram plot    \n",
    "    \"\"\"    \n",
    "    plt.hist(RRints, bins = 'auto')\n",
    "    plt.xlabel('RR Interval')\n",
    "    plt.ylabel('Number of RR Intervals')\n",
    "    plt.title('RR Interval Histogram')\n",
    "    plt.show()\n",
    "\n",
    "def plotWidthHist(RRints):    \n",
    "    \"\"\"  \n",
    "    Histogram distribution of poincare points projected along the direction of \n",
    "    line-of-identity, or along the line perpendicular to the line-of-identity.\n",
    "    \n",
    "    Input    :\n",
    "    \n",
    "     - RRints: [list] of RR intervals\n",
    "        \n",
    "    Output   :\n",
    "        \n",
    "     - 'Width', or delta-RR interval, histogram plot      \n",
    "     \"\"\"   \n",
    "    ax1 = RRints[:-1]\n",
    "    ax2 = RRints[1:]\n",
    "    x1 = (np.cos(np.pi / 4) * ax1) - (np.sin(np.pi / 4) * ax2)\n",
    "    plt.hist(x1, bins = 'auto')\n",
    "    plt.title('Width (Delta-RR Interval) Histogram')\n",
    "    plt.show()\n",
    "    \n",
    "def plotLengthHist(RRints):    \n",
    "    \"\"\"\n",
    "    Histogram distribution of poincare points projected along the line-of-identty.\n",
    "    \n",
    "    Input    :\n",
    "    \n",
    "     - RRints: [list] of RR intervals\n",
    "        \n",
    "    Output   :\n",
    "        \n",
    "     - 'Length' histogram plot\n",
    "     \"\"\"\n",
    "     \n",
    "    ax1 = RRints[:-1]\n",
    "    ax2 = RRints[1:]\n",
    "    x2 = (np.sin(np.pi / 4) * ax1) + (np.cos(np.pi / 4) * ax2)\n",
    "    plt.hist(x2, bins = 'auto')\n",
    "    plt.title('Length Histogram')\n",
    "    plt.show()"
   ]
  },
  {
   "cell_type": "code",
   "execution_count": 73,
   "id": "1e7299e5",
   "metadata": {},
   "outputs": [
    {
     "data": {
      "image/png": "[encoded data removed]",
      "text/plain": [
       "<Figure size 432x288 with 1 Axes>"
      ]
     },
     "metadata": {
      "needs_background": "light"
     },
     "output_type": "display_data"
    }
   ],
   "source": [
    "plotPoincare(rr_ints[0])"
   ]
  },
  {
   "cell_type": "code",
   "execution_count": 74,
   "id": "1ac3e7d7",
   "metadata": {},
   "outputs": [
    {
     "data": {
      "text/plain": [
       "{'SD1': 17.576377587488654, 'SD2': 35.24872885231392}"
      ]
     },
     "execution_count": 74,
     "metadata": {},
     "output_type": "execute_result"
    }
   ],
   "source": [
    "eclipseFittingMethod(rr_ints[0])"
   ]
  },
  {
   "cell_type": "code",
   "execution_count": 75,
   "id": "02fd584c",
   "metadata": {},
   "outputs": [
    {
     "ename": "TypeError",
     "evalue": "unsupported operand type(s) for -: 'list' and 'list'",
     "output_type": "error",
     "traceback": [
      "\u001b[0;31m---------------------------------------------------------------------------\u001b[0m",
      "\u001b[0;31mTypeError\u001b[0m                                 Traceback (most recent call last)",
      "\u001b[0;32m<ipython-input-75-8c85ee2558da>\u001b[0m in \u001b[0;36m<module>\u001b[0;34m\u001b[0m\n\u001b[0;32m----> 1\u001b[0;31m \u001b[0mhraMethod\u001b[0m\u001b[0;34m(\u001b[0m\u001b[0mrr_ints\u001b[0m\u001b[0;34m[\u001b[0m\u001b[0;36m0\u001b[0m\u001b[0;34m]\u001b[0m\u001b[0;34m)\u001b[0m\u001b[0;34m\u001b[0m\u001b[0;34m\u001b[0m\u001b[0m\n\u001b[0m",
      "\u001b[0;32m<ipython-input-72-9834784156a0>\u001b[0m in \u001b[0;36mhraMethod\u001b[0;34m(RRints)\u001b[0m\n\u001b[1;32m     48\u001b[0m     \u001b[0max1\u001b[0m \u001b[0;34m=\u001b[0m \u001b[0mRRints\u001b[0m\u001b[0;34m[\u001b[0m\u001b[0;34m:\u001b[0m\u001b[0;34m-\u001b[0m\u001b[0;36m1\u001b[0m\u001b[0;34m]\u001b[0m\u001b[0;34m\u001b[0m\u001b[0;34m\u001b[0m\u001b[0m\n\u001b[1;32m     49\u001b[0m     \u001b[0max2\u001b[0m \u001b[0;34m=\u001b[0m \u001b[0mRRints\u001b[0m\u001b[0;34m[\u001b[0m\u001b[0;36m1\u001b[0m\u001b[0;34m:\u001b[0m\u001b[0;34m]\u001b[0m\u001b[0;34m\u001b[0m\u001b[0;34m\u001b[0m\u001b[0m\n\u001b[0;32m---> 50\u001b[0;31m     \u001b[0mSD1I\u001b[0m \u001b[0;34m=\u001b[0m \u001b[0mnp\u001b[0m\u001b[0;34m.\u001b[0m\u001b[0msqrt\u001b[0m\u001b[0;34m(\u001b[0m\u001b[0;34m(\u001b[0m\u001b[0;36m1\u001b[0m \u001b[0;34m/\u001b[0m \u001b[0mlen\u001b[0m\u001b[0;34m(\u001b[0m\u001b[0max1\u001b[0m\u001b[0;34m)\u001b[0m\u001b[0;34m)\u001b[0m \u001b[0;34m*\u001b[0m \u001b[0;34m(\u001b[0m\u001b[0mnp\u001b[0m\u001b[0;34m.\u001b[0m\u001b[0msum\u001b[0m\u001b[0;34m(\u001b[0m\u001b[0;34m(\u001b[0m\u001b[0max1\u001b[0m \u001b[0;34m-\u001b[0m \u001b[0max2\u001b[0m\u001b[0;34m)\u001b[0m \u001b[0;34m**\u001b[0m \u001b[0;36m2\u001b[0m\u001b[0;34m)\u001b[0m \u001b[0;34m/\u001b[0m \u001b[0;36m2\u001b[0m\u001b[0;34m)\u001b[0m\u001b[0;34m)\u001b[0m\u001b[0;34m\u001b[0m\u001b[0;34m\u001b[0m\u001b[0m\n\u001b[0m\u001b[1;32m     51\u001b[0m     \u001b[0max1ax2\u001b[0m \u001b[0;34m=\u001b[0m \u001b[0;34m(\u001b[0m\u001b[0max1\u001b[0m \u001b[0;34m-\u001b[0m \u001b[0max2\u001b[0m\u001b[0;34m)\u001b[0m \u001b[0;34m/\u001b[0m \u001b[0mnp\u001b[0m\u001b[0;34m.\u001b[0m\u001b[0msqrt\u001b[0m\u001b[0;34m(\u001b[0m\u001b[0;36m2\u001b[0m\u001b[0;34m)\u001b[0m\u001b[0;34m\u001b[0m\u001b[0;34m\u001b[0m\u001b[0m\n\u001b[1;32m     52\u001b[0m     \u001b[0mindices_up\u001b[0m \u001b[0;34m=\u001b[0m \u001b[0mnp\u001b[0m\u001b[0;34m.\u001b[0m\u001b[0mwhere\u001b[0m\u001b[0;34m(\u001b[0m\u001b[0max1ax2\u001b[0m \u001b[0;34m>\u001b[0m \u001b[0;36m0\u001b[0m\u001b[0;34m)\u001b[0m\u001b[0;34m\u001b[0m\u001b[0;34m\u001b[0m\u001b[0m\n",
      "\u001b[0;31mTypeError\u001b[0m: unsupported operand type(s) for -: 'list' and 'list'"
     ]
    }
   ],
   "source": [
    "#hraMethod(rr_ints[0])"
   ]
  },
  {
   "cell_type": "code",
   "execution_count": 76,
   "id": "d840e5af",
   "metadata": {},
   "outputs": [
    {
     "data": {
      "text/plain": [
       "0.6017260527570604"
      ]
     },
     "execution_count": 76,
     "metadata": {},
     "output_type": "execute_result"
    }
   ],
   "source": [
    "correlationCoef(rr_ints[0])"
   ]
  },
  {
   "cell_type": "code",
   "execution_count": 77,
   "id": "02bcee0b",
   "metadata": {},
   "outputs": [
    {
     "name": "stdout",
     "output_type": "stream",
     "text": [
      "24.85675160965429\n",
      "204.52413416962094\n",
      "27.851408714838115\n",
      "293.36391151882026\n"
     ]
    }
   ],
   "source": [
    "# RMSSD: take the square root of the mean square of the differences\n",
    "rmssd = np.sqrt(np.mean(np.square(np.diff(rr_ints[0]))))\n",
    "print(rmssd)\n",
    "# Mean RR\n",
    "mean_rr = np.mean(rr_ints[0])\n",
    "print(mean_rr)\n",
    "# SDNN\n",
    "sdnn = np.std(rr_ints[0])\n",
    "print(sdnn)\n",
    "# Mean HR\n",
    "mean_hr = 60 * 1000/np.mean(rr_ints[0])\n",
    "print(mean_hr)\n",
    "# STD HR\n",
    "##std_hr = np.std(hr)\n",
    "# Min HR\n",
    "##min_hr = np.min(hr)\n",
    "# Max HR\n",
    "##max_hr = np.max(hr)\n",
    "# NNxx: sum absolute differences that are larger than 50ms\n",
    "nnxx = np.sum(np.abs(np.diff(rr_ints[0])) > 50)*1\n",
    "print(nnxx)\n",
    "# pNNx: fraction of nnxx of all rr-intervals\n",
    "pnnx = 100 * nnxx / len(rr_ints[0])\n",
    "print(pnnx)\n",
    "#Got code from https://blog.orikami.nl/exploring-heart-rate-variability-using-python-483a7037c64d"
   ]
  },
  {
   "cell_type": "markdown",
   "id": "2ae0aeac-6ff9-40f7-a34a-71c8e854342d",
   "metadata": {},
   "source": [
    "## What else to extract - some good places to start\n",
    "\n",
    "- [Moody, 1983 - A new method for detecting atrial fibrillation using R-R intervals.](http://ecg.mit.edu/george/publications/afib-cinc-1983.pdf)\n",
    "- [Lake, 2010 - Accurate estimation of entropy in very short physiological time series: the problem of atrial fibrillation detection in implanted ventricular devices](https://journals.physiology.org/doi/full/10.1152/ajpheart.00561.2010)\n",
    "- [Rubio, 2011 - Estudio comparativo de algoritmos para la deteccion de la fibrilacion auricular](https://academica-e.unavarra.es/bitstream/handle/2454/4136/577570.pdf?sequence=1&isAllowed=y)\n",
    "- [Ghodrati, 2008 - Statistical analysis of RR interval irregularities for detection of atrial fibrillation](https://ieeexplore.ieee.org/document/4749227)\n",
    "- [Young, 1999 - A comparative study of a hidden Markov model detector for atrial fibrillation](https://ieeexplore.ieee.org/abstract/document/788166)"
   ]
  }
 ],
 "metadata": {
  "kernelspec": {
   "display_name": "Python 3",
   "language": "python",
   "name": "python3"
  },
  "language_info": {
   "codemirror_mode": {
    "name": "ipython",
    "version": 3
   },
   "file_extension": ".py",
   "mimetype": "text/x-python",
   "name": "python",
   "nbconvert_exporter": "python",
   "pygments_lexer": "ipython3",
   "version": "3.8.8"
  }
 },
 "nbformat": 4,
 "nbformat_minor": 5
}
