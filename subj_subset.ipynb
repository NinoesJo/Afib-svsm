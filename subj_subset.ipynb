{
 "cells": [
  {
   "cell_type": "code",
   "execution_count": 4,
   "id": "1ea18b50-839c-41b9-89dc-b9bc831f76ba",
   "metadata": {},
   "outputs": [],
   "source": [
    "import numpy as np\n",
    "from matplotlib import pyplot as plt\n",
    "from sklearn import preprocessing\n",
    "import wfdb\n",
    "import copy as cp\n",
    "import scipy.signal as signal\n",
    "import pickle\n",
    "from sklearn import preprocessing\n",
    "from tqdm import tqdm\n",
    "import os\n",
    "import re\n",
    "import pandas as pd\n",
    "import csv"
   ]
  },
  {
   "cell_type": "code",
   "execution_count": 5,
   "id": "3c8fc3db-52ee-45aa-aa1e-2c5c2f0cfced",
   "metadata": {},
   "outputs": [],
   "source": [
    "record_list = [] # Initialize the array that will hold the list of our records\n",
    "\n",
    "records = 'mit-bih-dataframes/subject_list.csv' # Get our record list like we did in the initial extraction\n",
    "with open(records) as rfile:# Load our records into the array\n",
    "    for record in rfile:\n",
    "        record = record[0:-1] # The -1 removes the newline (\"\\n\") character from the string\n",
    "        record_list.append(record)"
   ]
  },
  {
   "cell_type": "code",
   "execution_count": 6,
   "id": "93830edf-cc3e-4b64-8cc7-12501c1c7a95",
   "metadata": {},
   "outputs": [],
   "source": [
    "rr_ints = [] # Initialize the array that will hold all of our subjects' RR-Intervals\n",
    "\n",
    "for idx, subj in enumerate(record_list): # Iterate through our subject ids\n",
    "    rr_ints.append(np.genfromtxt('mit-bih-rr-intervals/'+str(subj)+'.csv',delimiter=',')) # Add to master array\n",
    "       #NOTE = change 'mit-bih-rr-intervals/' to the appropriate location"
   ]
  },
  {
   "cell_type": "code",
   "execution_count": 7,
   "id": "484c80b5-5df1-412c-8391-e38b0a9f118a",
   "metadata": {},
   "outputs": [
    {
     "name": "stderr",
     "output_type": "stream",
     "text": [
      "23it [00:00, 26.82it/s]\n"
     ]
    }
   ],
   "source": [
    "outlier_list=[]\n",
    "rrs=[]\n",
    "for idx, subj in tqdm(enumerate(rr_ints)):\n",
    "    outlier = [[],[]] # I want to store the index and the outlier\n",
    "    for idx2, rr in enumerate(subj):\n",
    "        if rr > 500:\n",
    "            outlier[0].append(rr) # add the rr int to our list\n",
    "            outlier[1].append(idx2) # Add its index to our list\n",
    "    subj = np.delete(subj, outlier[1]) # Remove all found outliers from our subject \n",
    "    rrs.append(subj) # Add it to our new rr interval list\n",
    "    outlier_list.append(outlier)"
   ]
  },
  {
   "cell_type": "code",
   "execution_count": 8,
   "id": "42f1d7c3-c31a-45b6-9e38-d0c3e2077729",
   "metadata": {},
   "outputs": [],
   "source": [
    " # Setup subset dictionary\n",
    "subset_list = {}\n",
    "for x in record_list:\n",
    "    subset_list[x] = []"
   ]
  },
  {
   "cell_type": "code",
   "execution_count": 9,
   "id": "3c2935fd-a903-4f38-acd3-ea27100d292f",
   "metadata": {},
   "outputs": [
    {
     "name": "stderr",
     "output_type": "stream",
     "text": [
      "23it [00:02,  9.27it/s]\n"
     ]
    }
   ],
   "source": [
    "subset_len_sec = 25 # Set the time we are going to subset by\n",
    "subset_len_samp = subset_len_sec*250 # Get that timme in samplse\n",
    "\n",
    "for idx, subj in tqdm(enumerate(rrs)):\n",
    "    samp = 0\n",
    "    while samp < len(subj):\n",
    "        subs_len = 0\n",
    "        subs = []\n",
    "        while subs_len < subset_len_samp and samp<len(subj):\n",
    "            rr = subj[samp]\n",
    "            subs.append(rr)\n",
    "            subs_len+=rr\n",
    "            samp+=1\n",
    "        subset_list[record_list[idx]].append(subs)"
   ]
  },
  {
   "cell_type": "code",
   "execution_count": 10,
   "id": "04528378-e826-4753-b5d2-c03ce1810482",
   "metadata": {},
   "outputs": [
    {
     "name": "stderr",
     "output_type": "stream",
     "text": [
      "100%|██████████| 23/23 [00:27<00:00,  1.21s/it]\n"
     ]
    }
   ],
   "source": [
    "subset_record_list = []\n",
    "reload_flag=True\n",
    "for idx, x in enumerate(tqdm(record_list)): \n",
    "    subset_record_list = []\n",
    "    for num, subset in enumerate(subset_list[x]):\n",
    "        if not os.path.exists('mit_bih_subset/'+x+ '-'+str(num)+'.csv') or reload_flag:\n",
    "            np.savetxt('mit_bih_subset/'+x+ '-'+str(num)+'.csv', subset, delimiter=\",\",  fmt='%s') \n",
    "            \n",
    "            subset_record_list.append(x+ '-'+str(num)+'.csv')\n",
    "    if not os.path.exists('mit_bih_subset/'+x+ '-'+str(num)+'.csv') or reload_flag:\n",
    "        np.savetxt('mit_bih_subset/'+x+'_subsetlist.csv', subset, delimiter=\",\",  fmt='%s') \n",
    "            # We'll load the complete list of subjects as well so that we can easily recreate the file names"
   ]
  },
  {
   "cell_type": "code",
   "execution_count": 11,
   "id": "e52b9182-e4c2-448c-bff8-c16f479345c3",
   "metadata": {},
   "outputs": [
    {
     "name": "stdout",
     "output_type": "stream",
     "text": [
      "52.83126779798926\n"
     ]
    }
   ],
   "source": [
    "rmssd = np.sqrt(np.mean(np.square(np.diff(subset_list['04015'][0]))))\n",
    "print(rmssd)"
   ]
  },
  {
   "cell_type": "code",
   "execution_count": 12,
   "id": "062a5384",
   "metadata": {},
   "outputs": [],
   "source": [
    "import pandas as pd\n",
    "import numpy as np\n",
    "import sklearn.linear_model as skl_lm\n",
    "import matplotlib.pyplot as plt\n",
    "from sklearn.model_selection import cross_val_score\n",
    "from sklearn.model_selection import LeaveOneOut\n",
    "from sklearn.model_selection import KFold"
   ]
  },
  {
   "cell_type": "code",
   "execution_count": 13,
   "id": "4c8f5dbe",
   "metadata": {},
   "outputs": [
    {
     "name": "stdout",
     "output_type": "stream",
     "text": [
      "(9205760, 7)\n",
      "\n",
      "         Unnamed: 0      Signal 1      Signal 2\n",
      "count  9.205760e+06  9.205760e+06  9.205760e+06\n",
      "mean   4.602880e+06 -2.724597e-01 -1.766384e-01\n",
      "std    2.657474e+06  7.441659e-01  5.349525e-01\n",
      "min    0.000000e+00 -8.175000e+00 -5.670000e+00\n",
      "25%    2.301440e+06 -5.850000e-01 -3.250000e-01\n",
      "50%    4.602880e+06 -2.400000e-01 -1.150000e-01\n",
      "75%    6.904319e+06 -2.000000e-02  3.000000e-02\n",
      "max    9.205759e+06  8.530000e+00  5.970000e+00\n",
      "\n",
      "<class 'pandas.core.frame.DataFrame'>\n",
      "Int64Index: 9205760 entries, 0 to 9205759\n",
      "Data columns (total 7 columns):\n",
      " #   Column      Dtype  \n",
      "---  ------      -----  \n",
      " 0   Unnamed: 0  int64  \n",
      " 1   Signal 1    float64\n",
      " 2   Signal 2    float64\n",
      " 3   R-Peak      bool   \n",
      " 4   Normal      bool   \n",
      " 5   AFIB        bool   \n",
      " 6   Other       bool   \n",
      "dtypes: bool(4), float64(2), int64(1)\n",
      "memory usage: 316.1 MB\n"
     ]
    },
    {
     "data": {
      "text/html": [
       "<div>\n",
       "<style scoped>\n",
       "    .dataframe tbody tr th:only-of-type {\n",
       "        vertical-align: middle;\n",
       "    }\n",
       "\n",
       "    .dataframe tbody tr th {\n",
       "        vertical-align: top;\n",
       "    }\n",
       "\n",
       "    .dataframe thead th {\n",
       "        text-align: right;\n",
       "    }\n",
       "</style>\n",
       "<table border=\"1\" class=\"dataframe\">\n",
       "  <thead>\n",
       "    <tr style=\"text-align: right;\">\n",
       "      <th></th>\n",
       "      <th>Unnamed: 0</th>\n",
       "      <th>Signal 1</th>\n",
       "      <th>Signal 2</th>\n",
       "      <th>R-Peak</th>\n",
       "      <th>Normal</th>\n",
       "      <th>AFIB</th>\n",
       "      <th>Other</th>\n",
       "    </tr>\n",
       "  </thead>\n",
       "  <tbody>\n",
       "    <tr>\n",
       "      <th>0</th>\n",
       "      <td>0</td>\n",
       "      <td>-0.275</td>\n",
       "      <td>-0.210</td>\n",
       "      <td>False</td>\n",
       "      <td>False</td>\n",
       "      <td>False</td>\n",
       "      <td>True</td>\n",
       "    </tr>\n",
       "    <tr>\n",
       "      <th>1</th>\n",
       "      <td>1</td>\n",
       "      <td>-0.295</td>\n",
       "      <td>-0.200</td>\n",
       "      <td>False</td>\n",
       "      <td>False</td>\n",
       "      <td>False</td>\n",
       "      <td>True</td>\n",
       "    </tr>\n",
       "    <tr>\n",
       "      <th>2</th>\n",
       "      <td>2</td>\n",
       "      <td>-0.310</td>\n",
       "      <td>-0.220</td>\n",
       "      <td>False</td>\n",
       "      <td>False</td>\n",
       "      <td>False</td>\n",
       "      <td>True</td>\n",
       "    </tr>\n",
       "    <tr>\n",
       "      <th>3</th>\n",
       "      <td>3</td>\n",
       "      <td>-0.315</td>\n",
       "      <td>-0.225</td>\n",
       "      <td>False</td>\n",
       "      <td>False</td>\n",
       "      <td>False</td>\n",
       "      <td>True</td>\n",
       "    </tr>\n",
       "    <tr>\n",
       "      <th>4</th>\n",
       "      <td>4</td>\n",
       "      <td>-0.300</td>\n",
       "      <td>-0.215</td>\n",
       "      <td>False</td>\n",
       "      <td>False</td>\n",
       "      <td>False</td>\n",
       "      <td>True</td>\n",
       "    </tr>\n",
       "  </tbody>\n",
       "</table>\n",
       "</div>"
      ],
      "text/plain": [
       "   Unnamed: 0  Signal 1  Signal 2  R-Peak  Normal   AFIB  Other\n",
       "0           0    -0.275    -0.210   False   False  False   True\n",
       "1           1    -0.295    -0.200   False   False  False   True\n",
       "2           2    -0.310    -0.220   False   False  False   True\n",
       "3           3    -0.315    -0.225   False   False  False   True\n",
       "4           4    -0.300    -0.215   False   False  False   True"
      ]
     },
     "execution_count": 13,
     "metadata": {},
     "output_type": "execute_result"
    }
   ],
   "source": [
    "#Logistic Regression with 5-fold CV\n",
    "df2 = pd.read_csv('mit-bih-dataframes/04015.csv', na_values='?').dropna()\n",
    "print(df2.shape)\n",
    "print()\n",
    "print(df2.describe())\n",
    "print()\n",
    "df2.info()\n",
    "df2.head(5)"
   ]
  },
  {
   "cell_type": "code",
   "execution_count": 21,
   "id": "56342d72",
   "metadata": {},
   "outputs": [
    {
     "name": "stdout",
     "output_type": "stream",
     "text": [
      "Accuracy of each fold: \n",
      " [0.99358771 0.99348506 0.99356598 0.99351927 0.99362899]\n",
      "\n",
      "Avg accuracy: 0.9935574031910456\n"
     ]
    }
   ],
   "source": [
    "import statsmodels.formula.api as smf\n",
    "import statsmodels.api as sm\n",
    "from sklearn.metrics import confusion_matrix, classification_report\n",
    "from sklearn.model_selection import KFold\n",
    "from sklearn.model_selection import cross_val_score\n",
    "from sklearn.linear_model import LogisticRegression\n",
    "\n",
    "X = df2.loc[:, [\"Signal 1\", \"Signal 2\"]] \n",
    "y = df2.loc[:, \"AFIB\"]\n",
    "\n",
    "crossvalidation = KFold(n_splits=5, random_state=2, shuffle=True)\n",
    "model = LogisticRegression(solver= 'liblinear')\n",
    "scores = cross_val_score(model, X, y, cv=crossvalidation)\n",
    "print('Accuracy of each fold: \\n {}'.format(scores))\n",
    "print()\n",
    "print(\"Avg accuracy: {}\".format(scores.mean()))"
   ]
  },
  {
   "cell_type": "code",
   "execution_count": 26,
   "id": "1acd58d4",
   "metadata": {},
   "outputs": [
    {
     "name": "stdout",
     "output_type": "stream",
     "text": [
      "                       Generalized Linear Model Regression Results                       \n",
      "=========================================================================================\n",
      "Dep. Variable:     ['AFIB[False]', 'AFIB[True]']   No. Observations:              9205760\n",
      "Model:                                       GLM   Df Residuals:                  9205758\n",
      "Model Family:                           Binomial   Df Model:                            1\n",
      "Link Function:                             logit   Scale:                          1.0000\n",
      "Method:                                     IRLS   Log-Likelihood:                -257.69\n",
      "Date:                           Tue, 13 Jul 2021   Deviance:                       515.37\n",
      "Time:                                   15:32:29   Pearson chi2:                 5.93e+04\n",
      "No. Iterations:                               34                                         \n",
      "Covariance Type:                       nonrobust                                         \n",
      "==================================================================================\n",
      "                     coef    std err          z      P>|z|      [0.025      0.975]\n",
      "----------------------------------------------------------------------------------\n",
      "Intercept         -7.5893      0.183    -41.558      0.000      -7.947      -7.231\n",
      "Normal[T.True]    43.1554   1.11e+04      0.004      0.997   -2.17e+04    2.18e+04\n",
      "==================================================================================\n"
     ]
    }
   ],
   "source": [
    "import statsmodels.formula.api as smf\n",
    "\n",
    "formula = 'AFIB ~ Normal'\n",
    "\n",
    "model_log = smf.glm(formula = formula, data=df2, family=sm.families.Binomial())\n",
    "result = model_log.fit()\n",
    "print(result.summary())"
   ]
  },
  {
   "cell_type": "code",
   "execution_count": null,
   "id": "2c41b813",
   "metadata": {},
   "outputs": [],
   "source": []
  }
 ],
 "metadata": {
  "kernelspec": {
   "display_name": "Python 3",
   "language": "python",
   "name": "python3"
  },
  "language_info": {
   "codemirror_mode": {
    "name": "ipython",
    "version": 3
   },
   "file_extension": ".py",
   "mimetype": "text/x-python",
   "name": "python",
   "nbconvert_exporter": "python",
   "pygments_lexer": "ipython3",
   "version": "3.8.8"
  }
 },
 "nbformat": 4,
 "nbformat_minor": 5
}
